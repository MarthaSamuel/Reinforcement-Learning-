{
 "cells": [
  {
   "cell_type": "code",
   "execution_count": 1,
   "metadata": {},
   "outputs": [],
   "source": [
    "# Importing the libraries\n",
    "import numpy as np\n",
    "import matplotlib.pyplot as plt\n",
    "import pandas as pd"
   ]
  },
  {
   "cell_type": "markdown",
   "metadata": {},
   "source": [
    "#### Dataset\n",
    "\n",
    "- Suppose an advertising company is running 10 different ads targeted towards a similar set of population on a webpage.\n",
    "- results for which ads were clicked by a user\n",
    "- Each column index represents a different ad. \n",
    "- We have a 1 if the ad was clicked by a user, and 0 if it was not. "
   ]
  },
  {
   "cell_type": "code",
   "execution_count": 2,
   "metadata": {},
   "outputs": [],
   "source": [
    "location = r'S:\\AI-DATASETS\\Ads_Optimisation.csv'"
   ]
  },
  {
   "cell_type": "code",
   "execution_count": 4,
   "metadata": {},
   "outputs": [
    {
     "data": {
      "text/plain": [
       "(10000, 10)"
      ]
     },
     "execution_count": 4,
     "metadata": {},
     "output_type": "execute_result"
    }
   ],
   "source": [
    "# Importing the dataset\n",
    "dataset = pd.read_csv(location)\n",
    "dataset.shape"
   ]
  },
  {
   "cell_type": "code",
   "execution_count": 5,
   "metadata": {},
   "outputs": [
    {
     "data": {
      "text/html": [
       "<div>\n",
       "<style scoped>\n",
       "    .dataframe tbody tr th:only-of-type {\n",
       "        vertical-align: middle;\n",
       "    }\n",
       "\n",
       "    .dataframe tbody tr th {\n",
       "        vertical-align: top;\n",
       "    }\n",
       "\n",
       "    .dataframe thead th {\n",
       "        text-align: right;\n",
       "    }\n",
       "</style>\n",
       "<table border=\"1\" class=\"dataframe\">\n",
       "  <thead>\n",
       "    <tr style=\"text-align: right;\">\n",
       "      <th></th>\n",
       "      <th>Ad 1</th>\n",
       "      <th>Ad 2</th>\n",
       "      <th>Ad 3</th>\n",
       "      <th>Ad 4</th>\n",
       "      <th>Ad 5</th>\n",
       "      <th>Ad 6</th>\n",
       "      <th>Ad 7</th>\n",
       "      <th>Ad 8</th>\n",
       "      <th>Ad 9</th>\n",
       "      <th>Ad 10</th>\n",
       "    </tr>\n",
       "  </thead>\n",
       "  <tbody>\n",
       "    <tr>\n",
       "      <th>0</th>\n",
       "      <td>1</td>\n",
       "      <td>0</td>\n",
       "      <td>0</td>\n",
       "      <td>0</td>\n",
       "      <td>1</td>\n",
       "      <td>0</td>\n",
       "      <td>0</td>\n",
       "      <td>0</td>\n",
       "      <td>1</td>\n",
       "      <td>0</td>\n",
       "    </tr>\n",
       "    <tr>\n",
       "      <th>1</th>\n",
       "      <td>0</td>\n",
       "      <td>0</td>\n",
       "      <td>0</td>\n",
       "      <td>0</td>\n",
       "      <td>0</td>\n",
       "      <td>0</td>\n",
       "      <td>0</td>\n",
       "      <td>0</td>\n",
       "      <td>1</td>\n",
       "      <td>0</td>\n",
       "    </tr>\n",
       "    <tr>\n",
       "      <th>2</th>\n",
       "      <td>0</td>\n",
       "      <td>0</td>\n",
       "      <td>0</td>\n",
       "      <td>0</td>\n",
       "      <td>0</td>\n",
       "      <td>0</td>\n",
       "      <td>0</td>\n",
       "      <td>0</td>\n",
       "      <td>0</td>\n",
       "      <td>0</td>\n",
       "    </tr>\n",
       "    <tr>\n",
       "      <th>3</th>\n",
       "      <td>0</td>\n",
       "      <td>1</td>\n",
       "      <td>0</td>\n",
       "      <td>0</td>\n",
       "      <td>0</td>\n",
       "      <td>0</td>\n",
       "      <td>0</td>\n",
       "      <td>1</td>\n",
       "      <td>0</td>\n",
       "      <td>0</td>\n",
       "    </tr>\n",
       "    <tr>\n",
       "      <th>4</th>\n",
       "      <td>0</td>\n",
       "      <td>0</td>\n",
       "      <td>0</td>\n",
       "      <td>0</td>\n",
       "      <td>0</td>\n",
       "      <td>0</td>\n",
       "      <td>0</td>\n",
       "      <td>0</td>\n",
       "      <td>0</td>\n",
       "      <td>0</td>\n",
       "    </tr>\n",
       "  </tbody>\n",
       "</table>\n",
       "</div>"
      ],
      "text/plain": [
       "   Ad 1  Ad 2  Ad 3  Ad 4  Ad 5  Ad 6  Ad 7  Ad 8  Ad 9  Ad 10\n",
       "0     1     0     0     0     1     0     0     0     1      0\n",
       "1     0     0     0     0     0     0     0     0     1      0\n",
       "2     0     0     0     0     0     0     0     0     0      0\n",
       "3     0     1     0     0     0     0     0     1     0      0\n",
       "4     0     0     0     0     0     0     0     0     0      0"
      ]
     },
     "execution_count": 5,
     "metadata": {},
     "output_type": "execute_result"
    }
   ],
   "source": [
    "dataset.head()"
   ]
  },
  {
   "cell_type": "markdown",
   "metadata": {},
   "source": [
    "First, we will try a random selection technique, where we randomly select any ad and show it to the user.\n",
    "\n",
    "If the user clicks the ad, we get paid and if not, there is no profit."
   ]
  },
  {
   "cell_type": "markdown",
   "metadata": {},
   "source": [
    "#### Implementing Random Selection"
   ]
  },
  {
   "cell_type": "code",
   "execution_count": 6,
   "metadata": {},
   "outputs": [],
   "source": [
    "import random"
   ]
  },
  {
   "cell_type": "code",
   "execution_count": 7,
   "metadata": {},
   "outputs": [
    {
     "name": "stdout",
     "output_type": "stream",
     "text": [
      "Total rewards =  1227\n"
     ]
    }
   ],
   "source": [
    "nbr_of_trials = 10000\n",
    "nbr_of_ads    = 10\n",
    "\n",
    "ads_selected_list = []\n",
    "total_reward      = 0\n",
    "\n",
    "for trial_ctr in range(0, nbr_of_trials):\n",
    "    \n",
    "    ad_nbr = random.randrange(nbr_of_ads)\n",
    "    \n",
    "    ads_selected_list.append(ad_nbr)\n",
    "    \n",
    "    reward = dataset.values[trial_ctr, ad_nbr]\n",
    "    \n",
    "    total_reward = total_reward + reward\n",
    "\n",
    "print(\"Total rewards = \", total_reward)"
   ]
  },
  {
   "cell_type": "code",
   "execution_count": 8,
   "metadata": {},
   "outputs": [
    {
     "data": {
      "text/plain": [
       "3    0.114\n",
       "6    0.106\n",
       "8    0.106\n",
       "0    0.106\n",
       "2    0.102\n",
       "4    0.100\n",
       "5    0.096\n",
       "9    0.095\n",
       "1    0.091\n",
       "7    0.084\n",
       "dtype: float64"
      ]
     },
     "execution_count": 8,
     "metadata": {},
     "output_type": "execute_result"
    }
   ],
   "source": [
    "pd.Series(ads_selected_list).head(1000).value_counts(normalize=True)"
   ]
  },
  {
   "cell_type": "code",
   "execution_count": 9,
   "metadata": {},
   "outputs": [
    {
     "data": {
      "text/plain": [
       "3    0.117\n",
       "8    0.111\n",
       "5    0.109\n",
       "2    0.105\n",
       "4    0.100\n",
       "7    0.097\n",
       "6    0.096\n",
       "9    0.093\n",
       "0    0.088\n",
       "1    0.084\n",
       "dtype: float64"
      ]
     },
     "execution_count": 9,
     "metadata": {},
     "output_type": "execute_result"
    }
   ],
   "source": [
    "pd.Series(ads_selected_list).sample(1000).value_counts(normalize=True)"
   ]
  },
  {
   "cell_type": "markdown",
   "metadata": {},
   "source": [
    "we look at the last 1000 trials, it is not able to find the optimal ad."
   ]
  },
  {
   "cell_type": "markdown",
   "metadata": {},
   "source": [
    "----------------------------\n",
    "#### Implementing UCB\n",
    "----------------------\n",
    "The idea behind UCB is very simple:\n",
    "\n",
    "- Select the action (arm) that has a high sum of average reward and upper confidence bound\n",
    "- Pull the arm and receive a reward\n",
    "- Update the arm's reward and confidence bound\n",
    "\n",
    "But how do we calculate UCB?\n",
    "\n",
    "We can calculate UCB using the formula  where N(a) is the number of times the arm was pulled and t is the total number of rounds.\n",
    "\n",
    "So, in UCB, we select an arm with the following formula:\n",
    "\n",
    "$$ \\large A_{t} \\doteq \\underset{a}{\\arg \\max }\\left[Q_{t}(a)+c \\sqrt{\\frac{\\ln t}{N_{t}(a)}}\\right]$$\n",
    "\n",
    "where \n",
    "\n",
    "- $ln( t)$ denotes the natural logarithm of t (the number that $e \\approx 2.71828$ would have to be raised to in order to equal t) \n",
    "\n",
    "- $N_t(a)$ denotes the number of times that action $a$ has been selected prior to time t (the denominator), and \n",
    "\n",
    "- the number c > 0 controls the degree of exploration. \n",
    "\n",
    "- If $N_t(a) = 0$, then $a$ is considered to be a `maximizing` action.\n"
   ]
  },
  {
   "cell_type": "code",
   "execution_count": 11,
   "metadata": {},
   "outputs": [],
   "source": [
    "import math"
   ]
  },
  {
   "cell_type": "code",
   "execution_count": 12,
   "metadata": {},
   "outputs": [],
   "source": [
    "nbr_of_trials = 10000\n",
    "number_of_ads = 10\n",
    "\n",
    "ads_selected_list     = []\n",
    "numbers_of_selections = [0] * number_of_ads\n",
    "sums_of_reward        = [0] * number_of_ads\n",
    "\n",
    "total_reward          = 0\n",
    "\n",
    "for trial_ctr in range(0, nbr_of_trials):\n",
    "\n",
    "    ad              = 0\n",
    "    max_upper_bound = 0\n",
    "    \n",
    "    for i in range(0, number_of_ads):\n",
    "        \n",
    "        if (numbers_of_selections[i] > 0):\n",
    "            average_reward = sums_of_reward[i] / numbers_of_selections[i]\n",
    "            delta_i        = math.sqrt(2 * math.log(trial_ctr+1) / numbers_of_selections[i])\n",
    "            upper_bound    = average_reward + delta_i\n",
    "        else:\n",
    "            upper_bound = 1e400\n",
    "            \n",
    "        if upper_bound > max_upper_bound:\n",
    "            max_upper_bound = upper_bound\n",
    "            ad = i\n",
    "            \n",
    "    ads_selected_list.append(ad)\n",
    "    \n",
    "    numbers_of_selections[ad] += 1\n",
    "    \n",
    "    reward = dataset.values[trial_ctr, ad]\n",
    "    \n",
    "    sums_of_reward[ad] += reward\n",
    "    \n",
    "    total_reward += reward"
   ]
  },
  {
   "cell_type": "code",
   "execution_count": 13,
   "metadata": {},
   "outputs": [
    {
     "data": {
      "text/plain": [
       "4    0.564\n",
       "7    0.113\n",
       "0    0.088\n",
       "8    0.045\n",
       "6    0.043\n",
       "1    0.042\n",
       "3    0.041\n",
       "2    0.032\n",
       "5    0.017\n",
       "9    0.015\n",
       "dtype: float64"
      ]
     },
     "execution_count": 13,
     "metadata": {},
     "output_type": "execute_result"
    }
   ],
   "source": [
    "pd.Series(ads_selected_list).sample(1000).value_counts(normalize=True)"
   ]
  },
  {
   "cell_type": "code",
   "execution_count": null,
   "metadata": {},
   "outputs": [],
   "source": []
  }
 ],
 "metadata": {
  "kernelspec": {
   "display_name": "Python 3 (ipykernel)",
   "language": "python",
   "name": "python3"
  },
  "language_info": {
   "codemirror_mode": {
    "name": "ipython",
    "version": 3
   },
   "file_extension": ".py",
   "mimetype": "text/x-python",
   "name": "python",
   "nbconvert_exporter": "python",
   "pygments_lexer": "ipython3",
   "version": "3.9.7"
  }
 },
 "nbformat": 4,
 "nbformat_minor": 4
}
