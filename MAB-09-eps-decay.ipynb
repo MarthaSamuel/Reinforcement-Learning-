{
 "cells": [
  {
   "cell_type": "code",
   "execution_count": 1,
   "metadata": {},
   "outputs": [],
   "source": [
    "from IPython.display import Image"
   ]
  },
  {
   "cell_type": "markdown",
   "metadata": {},
   "source": [
    "--------------------------------\n",
    "#### ϵ-Decay Strategies\n",
    "--------------------------------\n",
    "- The `ϵ-greedy` strategies have an obvious weakness in that they continue to include random noise no matter how many examples they see. \n",
    "\n",
    "- `ϵ-decay` which `reduces the probability of exploration` with every step. This works by defining ϵ as a function of the number of steps, n.\n",
    "\n",
    "$$ \\large \\varepsilon(n) = \\frac{1}{1+n\\beta}$$\n"
   ]
  },
  {
   "cell_type": "markdown",
   "metadata": {},
   "source": [
    "Where $\\beta<1$ is introduced as a scaling factor to reduce the scaling rate so that the algorithm has sufficient opportunity to explore. \n",
    "\n",
    "In this case, we also include +1 in the denominator to prevent infinities from appearing. \n",
    "\n",
    "Given this, we can make a few small changes to our previous class of bandits to define an `eps_decay_bandit` class that works on the same principles."
   ]
  },
  {
   "cell_type": "code",
   "execution_count": 1,
   "metadata": {},
   "outputs": [],
   "source": [
    "# import modules \n",
    "import numpy as np \n",
    "\n",
    "import matplotlib.pyplot as plt \n",
    "\n",
    "import pandas as pd \n",
    "%matplotlib inline\n",
    "\n",
    "from lolviz import *"
   ]
  },
  {
   "cell_type": "code",
   "execution_count": 4,
   "metadata": {},
   "outputs": [],
   "source": [
    "class eps_bandit:\n",
    "    \n",
    "    def __init__(self, k, eps, iters, mu='random'):\n",
    "        \n",
    "        self.k     = k               # Number of arms      \n",
    "        self.eps   = eps             # Search probability\n",
    "        self.iters = iters           # Number of iterations\n",
    "        self.n     = 0               # Step count\n",
    "        \n",
    "        self.k_n         = np.zeros(k) # Step count for each arm (options)\n",
    "        self.mean_reward = 0           # Total mean reward\n",
    "        self.reward      = np.zeros(iters)\n",
    "        \n",
    "        self.k_reward = np.zeros(k)    # Mean reward for each arm\n",
    "        \n",
    "        if type(mu) == list: \n",
    "        # or type(mu).__module__ == np.__name__:     \n",
    "            self.mu = np.array(mu)              # User-defined averages\n",
    "        elif type(mu) == np.ndarray:\n",
    "            self.mu = mu\n",
    "        elif mu == 'random':\n",
    "            self.mu = np.random.normal(0, 1, k) # Draw means from probability distribution\n",
    "        elif mu == 'sequence':         \n",
    "            self.mu = np.linspace(0, k-1, k)    # Increase the mean for each arm by one\n",
    "        \n",
    "    def pull(self):\n",
    "        \n",
    "        p = np.random.rand()                # Generate random number\n",
    "        \n",
    "        if self.eps == 0 and self.n == 0:   \n",
    "            a = np.random.choice(self.k)    # beginning\n",
    "        elif p < self.eps:      \n",
    "            a = np.random.choice(self.k)    # Randomly select an action\n",
    "        else:\n",
    "            a = np.argmax(self.k_reward)    # Take greedy action\n",
    "            \n",
    "        reward = np.random.normal(self.mu[a], 1)\n",
    "        \n",
    "        # Update counts\n",
    "        self.n      += 1\n",
    "        self.k_n[a] += 1\n",
    "        \n",
    "        # Update total\n",
    "        self.mean_reward = self.mean_reward + (reward - self.mean_reward) / self.n\n",
    "        \n",
    "        # Update results for Q(A)\n",
    "        self.k_reward[a] = self.k_reward[a] + (reward - self.k_reward[a]) / self.k_n[a]\n",
    "        \n",
    "    def run(self):\n",
    "        for i in range(self.iters):\n",
    "            self.pull()\n",
    "            self.reward[i] = self.mean_reward\n",
    "            \n",
    "    def reset(self):\n",
    "        # Resets results while keeping settings\n",
    "        self.n           = 0\n",
    "        self.k_n         = np.zeros(k)\n",
    "        self.mean_reward = 0\n",
    "        self.reward      = np.zeros(iters)\n",
    "        self.k_reward    = np.zeros(k)"
   ]
  },
  {
   "cell_type": "markdown",
   "metadata": {},
   "source": [
    "- define a class called `eps_decay_bandit` \n",
    "    - `k`     - number of arms (int), \n",
    "    - `eps`   - probability of random action 0 < eps < 1 (float) \n",
    "    - `iters` - number of iterations \n",
    "    \n",
    "- We’ll also define a term `mu` that we can use to adjust the average rewards of each of the arms.\n",
    "    - mu: set the average rewards for each of the k-arms.\n",
    "        - Set to \"random\" for the rewards to be selected from a normal distribution with mean = 0. \n",
    "        - Set to \"sequence\" for the means to be ordered from 0 to k-1.\n",
    "        - Pass a list or array of length = k for user-defined values."
   ]
  },
  {
   "cell_type": "code",
   "execution_count": 5,
   "metadata": {},
   "outputs": [],
   "source": [
    "class eps_decay_bandit:\n",
    "    \n",
    "    def __init__(self, k, iters, mu='random'):\n",
    "        \n",
    "        self.k     = k               # Number of arms      \n",
    "\n",
    "        self.iters = iters           # Number of iterations\n",
    "        self.n     = 0               # Step count\n",
    "              \n",
    "        self.k_n         = np.zeros(k) # Step count for each arm (options)\n",
    "        self.mean_reward = 0           # Total mean reward\n",
    "        self.reward      = np.zeros(iters)\n",
    "        \n",
    "        self.k_reward = np.zeros(k)    # Mean reward for each arm\n",
    "        \n",
    "        # Step count for each arm\n",
    "        self.k_n = np.zeros(k)\n",
    "        \n",
    "        # Total mean reward\n",
    "        self.mean_reward = 0\n",
    "        self.reward      = np.zeros(iters)\n",
    "        \n",
    "        # Mean reward for each arm\n",
    "        self.k_reward = np.zeros(k)\n",
    "        \n",
    "        if type(mu) == list:  \n",
    "            self.mu = np.array(mu)              # User-defined averages\n",
    "        elif type(mu) == np.ndarray:\n",
    "            self.mu = mu\n",
    "        elif mu == 'random':\n",
    "            self.mu = np.random.normal(0, 1, k) # Draw means from probability distribution\n",
    "        elif mu == 'sequence':         \n",
    "            self.mu = np.linspace(0, k-1, k)    # Increase the mean for each arm by one\n",
    "        \n",
    "    def pull(self):\n",
    "        \n",
    "        p = np.random.rand()               # Generate random number\n",
    "        \n",
    "        if p < 1 / (1 + self.n / self.k):\n",
    "            a = np.random.choice(self.k)   # Randomly select an action\n",
    "        else:\n",
    "            a = np.argmax(self.k_reward)   # Take greedy action\n",
    "            \n",
    "        reward = np.random.normal(self.mu[a], 1)\n",
    "        \n",
    "        # Update counts\n",
    "        self.n      += 1\n",
    "        self.k_n[a] += 1\n",
    "        \n",
    "        # Update total\n",
    "        self.mean_reward = self.mean_reward + (reward - self.mean_reward) / self.n\n",
    "        \n",
    "        # Update results for Q(A)\n",
    "        self.k_reward[a] = self.k_reward[a] + (reward - self.k_reward[a]) / self.k_n[a]\n",
    "        \n",
    "    def run(self):\n",
    "        for i in range(self.iters):\n",
    "            self.pull()\n",
    "            self.reward[i] = self.mean_reward\n",
    "            \n",
    "    def reset(self):\n",
    "        # Resets results while keeping settings\n",
    "        self.n = 0\n",
    "        self.k_n = np.zeros(k)\n",
    "        self.mean_reward = 0\n",
    "        self.reward = np.zeros(iters)\n",
    "        self.k_reward = np.zeros(k)"
   ]
  },
  {
   "cell_type": "markdown",
   "metadata": {},
   "source": [
    "Now running the code:"
   ]
  },
  {
   "cell_type": "code",
   "execution_count": 6,
   "metadata": {},
   "outputs": [],
   "source": [
    "k                 = 10\n",
    "iters             = 1000\n",
    "eps_decay_rewards = np.zeros(iters)\n",
    "eps_1_rewards     = np.zeros(iters)\n",
    "episodes          = 1000\n",
    "\n",
    "# Run experiments\n",
    "for i in range(episodes):\n",
    "    \n",
    "    # Initialize bandits\n",
    "    eps_decay = eps_decay_bandit(k, iters)\n",
    "    eps_1     = eps_bandit(k, 0.1, iters, eps_decay.mu.copy())\n",
    "    \n",
    "    # Run experiments\n",
    "    eps_decay.run()\n",
    "    eps_1.run()\n",
    "    \n",
    "    # Update long-term averages\n",
    "    eps_decay_rewards = eps_decay_rewards + ( eps_decay.reward - eps_decay_rewards) / (i + 1)\n",
    "    eps_1_rewards     = eps_1_rewards +     ( eps_1.reward - eps_1_rewards) / (i + 1)"
   ]
  },
  {
   "cell_type": "code",
   "execution_count": 7,
   "metadata": {},
   "outputs": [
    {
     "data": {
      "image/png": "[encoded data removed]",
      "text/plain": [
       "<Figure size 864x576 with 1 Axes>"
      ]
     },
     "metadata": {
      "needs_background": "light"
     },
     "output_type": "display_data"
    }
   ],
   "source": [
    "plt.figure(figsize=(12,8))\n",
    "plt.plot(eps_decay_rewards, label=\"$\\epsilon-decay$\")\n",
    "plt.plot(eps_1_rewards, label=\"$\\epsilon=0.1$\")\n",
    "plt.legend(bbox_to_anchor=(1.2, 0.5))\n",
    "plt.xlabel(\"Iterations\")\n",
    "plt.ylabel(\"Average Reward\")\n",
    "plt.title(\"Average $\\epsilon-decay$ and\" +  \"$\\epsilon-greedy$ Rewards after \"  + str(episodes) + \" Episodes\")\n",
    "plt.grid();"
   ]
  },
  {
   "cell_type": "markdown",
   "metadata": {},
   "source": [
    "The $\\epsilon-\\text{decay}$ strategy outperforms our previous best algorithm as it sticks to the optimal action once it is found."
   ]
  },
  {
   "cell_type": "code",
   "execution_count": null,
   "metadata": {},
   "outputs": [],
   "source": []
  }
 ],
 "metadata": {
  "kernelspec": {
   "display_name": "Python 3 (ipykernel)",
   "language": "python",
   "name": "python3"
  },
  "language_info": {
   "codemirror_mode": {
    "name": "ipython",
    "version": 3
   },
   "file_extension": ".py",
   "mimetype": "text/x-python",
   "name": "python",
   "nbconvert_exporter": "python",
   "pygments_lexer": "ipython3",
   "version": "3.9.7"
  }
 },
 "nbformat": 4,
 "nbformat_minor": 4
}
