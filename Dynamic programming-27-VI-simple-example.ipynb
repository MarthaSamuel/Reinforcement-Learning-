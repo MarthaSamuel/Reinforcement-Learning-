{
 "cells": [
  {
   "cell_type": "code",
   "execution_count": 94,
   "id": "1e56960e-9ef0-472d-a917-9a3e5a073c81",
   "metadata": {},
   "outputs": [],
   "source": [
    "from IPython.display import Image"
   ]
  },
  {
   "cell_type": "code",
   "execution_count": 95,
   "id": "ee8e2c3e-6536-407e-a24e-b1af2ff624df",
   "metadata": {},
   "outputs": [],
   "source": [
    "#!pip install prettytable "
   ]
  },
  {
   "cell_type": "code",
   "execution_count": 96,
   "id": "0f506f23-37eb-4b13-9de7-bef75f5ee2bd",
   "metadata": {},
   "outputs": [],
   "source": [
    "from prettytable import PrettyTable\n",
    "\n",
    "import numpy as np\n",
    "import seaborn as sns\n",
    "import matplotlib.pyplot as plt"
   ]
  },
  {
   "cell_type": "markdown",
   "id": "2954e261-1e05-426c-a2c4-09bf265a41af",
   "metadata": {
    "tags": []
   },
   "source": [
    "#### Settings\n",
    "\n",
    "- `STATES S` - The different states as per the question is as follows:\n",
    "\n",
    "    - S0\n",
    "    - S1\n",
    "    - S2\n",
    "    - S3\n",
    "\n",
    "    - Here , S3 is an absorbant state with a utility/value value of 10.\n",
    "\n",
    "- `ACTIONS A` - The different supported actions are as follows:\n",
    "\n",
    "    - move left (l)\n",
    "        - Here the agent moves left with a probability of 0.8 and right with a probability of 0.2\n",
    "\n",
    "    - move right (r)\n",
    "        - Here the agent moves left with a probability of 0.2 and right with a probability of 0.8"
   ]
  },
  {
   "cell_type": "markdown",
   "id": "9b14b523-becc-4a0d-af68-e970e4a47df4",
   "metadata": {},
   "source": [
    "#### TRANSITION FUNGTIONP\n",
    "Using the description of the actions, the following transition function can be designed. Here, each box represents $P\\left(s^{\\prime} \\mid s, a\\right)$, i.e. probability of reaching a state s' given action a from an initial state s\n",
    "For action I,\n",
    "\n"
   ]
  },
  {
   "cell_type": "code",
   "execution_count": 97,
   "id": "6eccfac7-6f8e-4d10-bcc1-d3af13002151",
   "metadata": {},
   "outputs": [
    {
     "data": {
      "image/png": "[encoded data removed]",
      "text/plain": [
       "<IPython.core.display.Image object>"
      ]
     },
     "execution_count": 97,
     "metadata": {
      "image/png": {
       "width": 400
      }
     },
     "output_type": "execute_result"
    }
   ],
   "source": [
    "Image(r'D:\\MYLEARN\\2-ANALYTICS-DataScience\\icons-images\\DP-vi-03.PNG', width=400)"
   ]
  },
  {
   "cell_type": "markdown",
   "id": "1d7ae1ee-6d18-4641-8804-5d06456ed85c",
   "metadata": {},
   "source": [
    "#### REWARD FUNCTION\n",
    "The cost or reward of taking action a in state s, R(s , a) = -1, for all the states and actions. (except state 3, which is the absorbant state)"
   ]
  },
  {
   "cell_type": "code",
   "execution_count": 99,
   "id": "cc0601df-3e90-4f44-aecc-52df0c18a4fa",
   "metadata": {},
   "outputs": [
    {
     "data": {
      "image/png": "[encoded data removed]",
      "text/plain": [
       "<IPython.core.display.Image object>"
      ]
     },
     "execution_count": 99,
     "metadata": {
      "image/png": {
       "width": 200
      }
     },
     "output_type": "execute_result"
    }
   ],
   "source": [
    "Image(r'D:\\MYLEARN\\2-ANALYTICS-DataScience\\icons-images\\DP-vi-04.PNG', width=200)"
   ]
  },
  {
   "cell_type": "markdown",
   "id": "89d2e928-24b1-48a9-b3b0-ad00fca7fc82",
   "metadata": {},
   "source": [
    "#### DISCOUNT FACTOR\n",
    "The discount factor, γ = 0.25\n",
    "This efficiently reduces the utility values with each time step, thus ensuring that the model converges faster."
   ]
  },
  {
   "cell_type": "markdown",
   "id": "6b732aeb-8189-4d34-b479-3a9d4f6da776",
   "metadata": {},
   "source": [
    "#### the GRID"
   ]
  },
  {
   "cell_type": "code",
   "execution_count": 107,
   "id": "db623deb-57e3-4966-bc8c-7e64d1283c40",
   "metadata": {},
   "outputs": [
    {
     "data": {
      "image/png": "[encoded data removed]",
      "text/plain": [
       "<Figure size 432x72 with 1 Axes>"
      ]
     },
     "metadata": {
      "needs_background": "light"
     },
     "output_type": "display_data"
    }
   ],
   "source": [
    "BOARD_ROWS = 1\n",
    "BOARD_COLS = 4\n",
    "\n",
    "nbr_cells  = BOARD_ROWS * BOARD_COLS\n",
    "\n",
    "GOAL_STATES   = [nbr_cells-1]\n",
    "GOAL_STATES_V = [10]\n",
    "\n",
    "colors = []\n",
    "\n",
    "for i in range(nbr_cells):\n",
    "    if i in GOAL_STATES:\n",
    "        colors.append(\"lightgreen\")\n",
    "    else:\n",
    "        colors.append(\"white\")\n",
    "        \n",
    "plt.figure(figsize=(6, BOARD_ROWS))\n",
    "\n",
    "formatted_text = [''] * nbr_cells\n",
    "\n",
    "i = 0\n",
    "for goal_state in GOAL_STATES:\n",
    "    formatted_text[goal_state] = str(GOAL_STATES_V[i])\n",
    "    i+=1\n",
    "\n",
    "sns.heatmap(np.array(range(nbr_cells)).reshape(BOARD_ROWS, BOARD_COLS), \n",
    "                     cmap  = colors, \n",
    "                     fmt=\"\",\n",
    "                     annot = np.array(formatted_text).reshape(BOARD_ROWS, BOARD_COLS), \n",
    "                     linecolor  = \"#282828\", \n",
    "                     linewidths = 0.1,\n",
    "                     cbar  = False);"
   ]
  },
  {
   "cell_type": "code",
   "execution_count": 106,
   "id": "0f092eb9-61ae-4b13-9a6b-8852bb2199c7",
   "metadata": {},
   "outputs": [
    {
     "data": {
      "text/plain": [
       "array([['', '', '', '10']], dtype='<U2')"
      ]
     },
     "execution_count": 106,
     "metadata": {},
     "output_type": "execute_result"
    }
   ],
   "source": [
    "np.array(formatted_text).reshape(1, 4)"
   ]
  },
  {
   "cell_type": "code",
   "execution_count": null,
   "id": "fbe1efd0-e9e8-494a-925d-f823eb03ae76",
   "metadata": {},
   "outputs": [],
   "source": []
  },
  {
   "cell_type": "code",
   "execution_count": 33,
   "id": "22e8d9f5-9a13-46d4-b577-f3e3fc7b2f2b",
   "metadata": {},
   "outputs": [],
   "source": [
    "nbr_states  = 4\n",
    "actions     = ['L', 'R']\n",
    "nbr_actions = 2"
   ]
  },
  {
   "cell_type": "markdown",
   "id": "1399a0fe-c0c3-4107-83ec-4f03da03267b",
   "metadata": {},
   "source": [
    "#### Rewards [from a state][L R]"
   ]
  },
  {
   "cell_type": "code",
   "execution_count": 34,
   "id": "eb2ab2db-9309-43a5-b769-49f517d150b5",
   "metadata": {},
   "outputs": [],
   "source": [
    "R = [\n",
    "     [-1, -1], \n",
    "     [-1, -1], \n",
    "     [-1, -1]\n",
    "    ]"
   ]
  },
  {
   "cell_type": "markdown",
   "id": "74a9fc11-ec30-4638-af10-96741282f837",
   "metadata": {},
   "source": [
    "#### transistion probability P [from state] [to state] [action]"
   ]
  },
  {
   "cell_type": "code",
   "execution_count": 108,
   "id": "23008e85-0e4f-4917-9fc5-b37b3a066e04",
   "metadata": {},
   "outputs": [],
   "source": [
    "P = [\n",
    "        [\n",
    "            [0.8, 0.2], [0.2, 0.8], [0, 0],     [0, 0]\n",
    "        ],\n",
    "        [\n",
    "            [0.8, 0.2], [0,   0],   [0.2, 0.8], [0, 0]\n",
    "        ],\n",
    "        [\n",
    "            [0,   0],   [0.8, 0.2], [0, 0],     [0.2, 0.8]\n",
    "        ],\n",
    "]"
   ]
  },
  {
   "cell_type": "code",
   "execution_count": 110,
   "id": "6b59a42c-c69a-49c4-a645-b28e1eb9d94c",
   "metadata": {},
   "outputs": [],
   "source": [
    "convgence_delta = 0.001\n",
    "discount_factor = 0.25\n",
    "\n",
    "max_diff_value_fn = 0\n",
    "\n",
    "#    s0 s1 s2 s3\n",
    "V = [0, 0, 0, 10]  # value function of each state"
   ]
  },
  {
   "cell_type": "code",
   "execution_count": 111,
   "id": "e957ab0b-241c-420a-a034-2c22bb4aa575",
   "metadata": {},
   "outputs": [],
   "source": [
    "# table for storing the iteration results\n",
    "# Specify the Column Names while initializing the Table\n",
    "iter_results = PrettyTable([\"Time\", \"State 0\", \"State 1\", \"State 2\", \"State 3\", \"Max Diff\"])"
   ]
  },
  {
   "cell_type": "code",
   "execution_count": 112,
   "id": "44586ef3-4217-4566-b4e7-26945cd7c05f",
   "metadata": {},
   "outputs": [],
   "source": [
    "# loop for a certain number of iterations\n",
    "for time in range(0, 30):\n",
    "    \n",
    "    # save the iter results\n",
    "    iter_results.add_row([time, V[0], V[1], V[2], V[3], max_diff])\n",
    "   \n",
    "    Vnew = [-1e9, -1e9, -1e9, 10]\n",
    "    \n",
    "    # for all states [0 1 2] <- from_state\n",
    "    for from_state in range(3):\n",
    "        \n",
    "        # for all actions [L R]\n",
    "        for a in range(nbr_actions):\n",
    "            cur_state_act_val_fn = 0\n",
    "            \n",
    "             # for all states [0 1 2] <- to_state\n",
    "            for to_state in range(nbr_states): \n",
    "                \n",
    "                # get the transistion probabilities from_state, action, to_state\n",
    "                cur_state_act_val_fn += P[from_state][to_state][a] * V[to_state]\n",
    "                \n",
    "            cur_state_act_val_fn *= discount_factor\n",
    "            cur_state_act_val_fn += R[from_state][a]\n",
    "            \n",
    "            Vnew[from_state] = max(Vnew[from_state], cur_state_act_val_fn)\n",
    "            \n",
    "    max_diff_value_fn = 0\n",
    "    \n",
    "    for i in range(4):\n",
    "        max_diff_value_fn = max(max_diff_value_fn, abs(V[from_state] - Vnew[from_state]))\n",
    "        \n",
    "    V = Vnew\n",
    "    \n",
    "    if(max_diff_value_fn < convgence_delta):\n",
    "        break"
   ]
  },
  {
   "cell_type": "code",
   "execution_count": 113,
   "id": "ae91893d-5b66-47ef-8a06-6978fb26ffb6",
   "metadata": {},
   "outputs": [
    {
     "name": "stdout",
     "output_type": "stream",
     "text": [
      "+------+-----------+-----------+----------+---------+-----------------------+\n",
      "| Time |   State 0 |   State 1 |  State 2 | State 3 |              Max Diff |\n",
      "+------+-----------+-----------+----------+---------+-----------------------+\n",
      "|    0 |         0 |         0 |        0 |      10 | 0.0004062499999999414 |\n",
      "|    1 |      -1.0 |      -1.0 |      1.0 |      10 | 0.0004062499999999414 |\n",
      "|    2 |     -1.25 |     -0.85 |     0.95 |      10 | 0.0004062499999999414 |\n",
      "|    3 |   -1.2325 |   -0.8725 |   0.9575 |      10 | 0.0004062499999999414 |\n",
      "|    4 | -1.236125 | -0.870125 | 0.956375 |      10 | 0.0004062499999999414 |\n",
      "+------+-----------+-----------+----------+---------+-----------------------+\n"
     ]
    }
   ],
   "source": [
    "iter_results.align = 'r'\n",
    "print(iter_results)"
   ]
  },
  {
   "cell_type": "code",
   "execution_count": 115,
   "id": "bb7413b7-358d-49e9-9133-08fe61658d9a",
   "metadata": {},
   "outputs": [
    {
     "name": "stdout",
     "output_type": "stream",
     "text": [
      "The policy is: ['R', 'R', 'R', 'NA']\n"
     ]
    }
   ],
   "source": [
    "# one final iteration to determine the policy\n",
    "Vnew = [-1e9, -1e9, -1e9, 10]\n",
    "policy = ['NA', 'NA', 'NA', 'NA']\n",
    "for i in range(3):\n",
    "    for a in range(nbr_actions):\n",
    "        cur_val = 0\n",
    "        for j in range(nbr_states):\n",
    "            cur_val += P[i][j][a]*V[j]\n",
    "        cur_val *= gamma\n",
    "        cur_val += R[i][a]\n",
    "        if(Vnew[i] < cur_val):\n",
    "            policy[i] = actions[a]\n",
    "            Vnew[i] = max(Vnew[i], cur_val)\n",
    "print(\"The policy is:\", policy)"
   ]
  },
  {
   "cell_type": "code",
   "execution_count": null,
   "id": "de2a6cec-e1ed-420e-8e34-b1f99b3e1d05",
   "metadata": {},
   "outputs": [],
   "source": []
  }
 ],
 "metadata": {
  "kernelspec": {
   "display_name": "Python 3 (ipykernel)",
   "language": "python",
   "name": "python3"
  },
  "language_info": {
   "codemirror_mode": {
    "name": "ipython",
    "version": 3
   },
   "file_extension": ".py",
   "mimetype": "text/x-python",
   "name": "python",
   "nbconvert_exporter": "python",
   "pygments_lexer": "ipython3",
   "version": "3.8.5"
  }
 },
 "nbformat": 4,
 "nbformat_minor": 5
}
